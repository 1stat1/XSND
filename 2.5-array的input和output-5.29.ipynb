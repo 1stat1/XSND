{
 "cells": [
  {
   "cell_type": "markdown",
   "id": "0d941795",
   "metadata": {},
   "source": [
    "numpy中自带的input和output"
   ]
  },
  {
   "cell_type": "code",
   "execution_count": null,
   "id": "d495cdae",
   "metadata": {},
   "outputs": [],
   "source": [
    "import pickle"
   ]
  },
  {
   "cell_type": "code",
   "execution_count": 1,
   "id": "e11565bb",
   "metadata": {},
   "outputs": [],
   "source": [
    "import numpy as np"
   ]
  },
  {
   "cell_type": "code",
   "execution_count": 2,
   "id": "0de82b30",
   "metadata": {},
   "outputs": [],
   "source": [
    "x=np.arange(20)"
   ]
  },
  {
   "cell_type": "code",
   "execution_count": 3,
   "id": "a67daee3",
   "metadata": {},
   "outputs": [
    {
     "data": {
      "text/plain": [
       "array([ 0,  1,  2,  3,  4,  5,  6,  7,  8,  9, 10, 11, 12, 13, 14, 15, 16,\n",
       "       17, 18, 19])"
      ]
     },
     "execution_count": 3,
     "metadata": {},
     "output_type": "execute_result"
    }
   ],
   "source": [
    "x"
   ]
  },
  {
   "cell_type": "code",
   "execution_count": 24,
   "id": "d98fe3f4",
   "metadata": {},
   "outputs": [],
   "source": [
    "#f=open('x.pkl','wb')"
   ]
  },
  {
   "cell_type": "code",
   "execution_count": null,
   "id": "441daa54",
   "metadata": {},
   "outputs": [],
   "source": [
    "#pickle.dump(x,f)"
   ]
  },
  {
   "cell_type": "code",
   "execution_count": 29,
   "id": "7bf41644",
   "metadata": {},
   "outputs": [
    {
     "name": "stderr",
     "output_type": "stream",
     "text": [
      "'ls' 不是内部或外部命令，也不是可运行的程序\n",
      "或批处理文件。\n"
     ]
    }
   ],
   "source": [
    "!ls"
   ]
  },
  {
   "cell_type": "markdown",
   "id": "97889dc2",
   "metadata": {},
   "source": [
    "写入硬盘"
   ]
  },
  {
   "cell_type": "code",
   "execution_count": 33,
   "id": "b426ad9e",
   "metadata": {},
   "outputs": [],
   "source": [
    "np.save('one_array',x)"
   ]
  },
  {
   "cell_type": "code",
   "execution_count": 37,
   "id": "a870cb60",
   "metadata": {},
   "outputs": [
    {
     "name": "stdout",
     "output_type": "stream",
     "text": [
      " 驱动器 C 中的卷没有标签。\n",
      " 卷的序列号是 0C76-B7D6\n",
      "\n",
      " C:\\Users\\HHH 的目录\n",
      "\n",
      "2022/05/29  23:13    <DIR>          .\n",
      "2022/05/29  23:13    <DIR>          ..\n",
      "2021/05/19  22:18    <DIR>          .android\n",
      "2021/09/27  21:34    <DIR>          .astropy\n",
      "2022/05/17  22:12    <DIR>          .InstallAnywhere\n",
      "2022/05/29  21:50    <DIR>          .ipynb_checkpoints\n",
      "2021/09/30  23:36    <DIR>          .ipython\n",
      "2022/05/28  23:15    <DIR>          .jupyter\n",
      "2021/09/27  21:37    <DIR>          .matplotlib\n",
      "2021/09/30  23:37    <DIR>          .spyder-py3\n",
      "2022/05/29  22:17               208 11.npy\n",
      "2021/05/17  22:54    <DIR>          3D Objects\n",
      "2021/08/07  23:25         2,711,832 AMD_RyzenMaster.log\n",
      "2021/08/07  23:25             3,835 AMDRM_Install.log\n",
      "2021/08/25  23:01    <DIR>          ansel\n",
      "2022/05/29  23:13             2,390 array的input和output-5.29.ipynb\n",
      "2021/11/18  16:29    <DIR>          Autodesk\n",
      "2021/05/17  22:54    <DIR>          Contacts\n",
      "2022/05/29  16:25    <DIR>          Desktop\n",
      "2022/05/24  21:24    <DIR>          Documents\n",
      "2021/11/30  21:28    <DIR>          Downloads\n",
      "2021/05/17  22:54    <DIR>          Favorites\n",
      "2021/11/18  16:42    <DIR>          Links\n",
      "2021/05/17  22:54    <DIR>          Music\n",
      "2022/05/29  23:14               208 one_array.npy\n",
      "2021/08/22  10:29    <DIR>          OneDrive\n",
      "2021/07/26  23:02    <DIR>          Pictures\n",
      "2021/05/17  22:54    <DIR>          Saved Games\n",
      "2021/05/17  22:55    <DIR>          Searches\n",
      "2022/05/29  00:11             2,216 STAT007-5.28.ipynb\n",
      "2021/09/24  22:48    <DIR>          Videos\n",
      "2022/05/29  22:40                 0 x.pkl\n",
      "2022/05/29  22:19               208 一维数组.npy\n",
      "               8 个文件      2,720,897 字节\n",
      "              25 个目录 25,090,330,624 可用字节\n"
     ]
    }
   ],
   "source": [
    "!ls"
   ]
  },
  {
   "cell_type": "markdown",
   "id": "70a2e066",
   "metadata": {},
   "source": [
    "加载刚才保存的array"
   ]
  },
  {
   "cell_type": "code",
   "execution_count": 39,
   "id": "b2afbfc2",
   "metadata": {},
   "outputs": [
    {
     "data": {
      "text/plain": [
       "array([ 0,  1,  2,  3,  4,  5,  6,  7,  8,  9, 10, 11, 12, 13, 14, 15, 16,\n",
       "       17, 18, 19])"
      ]
     },
     "execution_count": 39,
     "metadata": {},
     "output_type": "execute_result"
    }
   ],
   "source": [
    "np.load('one_array.npy')"
   ]
  },
  {
   "cell_type": "code",
   "execution_count": 40,
   "id": "8060f639",
   "metadata": {},
   "outputs": [],
   "source": [
    "y=np.arange(6)"
   ]
  },
  {
   "cell_type": "code",
   "execution_count": 41,
   "id": "967f6f11",
   "metadata": {},
   "outputs": [
    {
     "data": {
      "text/plain": [
       "array([0, 1, 2, 3, 4, 5])"
      ]
     },
     "execution_count": 41,
     "metadata": {},
     "output_type": "execute_result"
    }
   ],
   "source": [
    "y"
   ]
  },
  {
   "cell_type": "markdown",
   "id": "60fcbd75",
   "metadata": {},
   "source": [
    "压缩保存2个array"
   ]
  },
  {
   "cell_type": "code",
   "execution_count": 42,
   "id": "d406577c",
   "metadata": {},
   "outputs": [],
   "source": [
    "np.savez('two_array.npz',a=x,b=y)"
   ]
  },
  {
   "cell_type": "code",
   "execution_count": 43,
   "id": "8f157df6",
   "metadata": {},
   "outputs": [
    {
     "name": "stdout",
     "output_type": "stream",
     "text": [
      " 驱动器 C 中的卷没有标签。\n",
      " 卷的序列号是 0C76-B7D6\n",
      "\n",
      " C:\\Users\\HHH 的目录\n",
      "\n",
      "2022/05/29  23:23    <DIR>          .\n",
      "2022/05/29  23:23    <DIR>          ..\n",
      "2021/05/19  22:18    <DIR>          .android\n",
      "2021/09/27  21:34    <DIR>          .astropy\n",
      "2022/05/17  22:12    <DIR>          .InstallAnywhere\n",
      "2022/05/29  21:50    <DIR>          .ipynb_checkpoints\n",
      "2021/09/30  23:36    <DIR>          .ipython\n",
      "2022/05/28  23:15    <DIR>          .jupyter\n",
      "2021/09/27  21:37    <DIR>          .matplotlib\n",
      "2021/09/30  23:37    <DIR>          .spyder-py3\n",
      "2022/05/29  22:17               208 11.npy\n",
      "2021/05/17  22:54    <DIR>          3D Objects\n",
      "2021/08/07  23:25         2,711,832 AMD_RyzenMaster.log\n",
      "2021/08/07  23:25             3,835 AMDRM_Install.log\n",
      "2021/08/25  23:01    <DIR>          ansel\n",
      "2022/05/29  23:21             6,199 array的input和output-5.29.ipynb\n",
      "2021/11/18  16:29    <DIR>          Autodesk\n",
      "2021/05/17  22:54    <DIR>          Contacts\n",
      "2022/05/29  16:25    <DIR>          Desktop\n",
      "2022/05/24  21:24    <DIR>          Documents\n",
      "2021/11/30  21:28    <DIR>          Downloads\n",
      "2021/05/17  22:54    <DIR>          Favorites\n",
      "2021/11/18  16:42    <DIR>          Links\n",
      "2021/05/17  22:54    <DIR>          Music\n",
      "2022/05/29  23:14               208 one_array.npy\n",
      "2021/08/22  10:29    <DIR>          OneDrive\n",
      "2021/07/26  23:02    <DIR>          Pictures\n",
      "2021/05/17  22:54    <DIR>          Saved Games\n",
      "2021/05/17  22:55    <DIR>          Searches\n",
      "2022/05/29  00:11             2,216 STAT007-5.28.ipynb\n",
      "2022/05/29  23:23               594 two_array.npz\n",
      "2021/09/24  22:48    <DIR>          Videos\n",
      "2022/05/29  22:40                 0 x.pkl\n",
      "2022/05/29  22:19               208 一维数组.npy\n",
      "               9 个文件      2,725,300 字节\n",
      "              25 个目录 25,088,606,208 可用字节\n"
     ]
    }
   ],
   "source": [
    "ls"
   ]
  },
  {
   "cell_type": "markdown",
   "id": "acfcef15",
   "metadata": {},
   "source": [
    "加载压缩的2个array"
   ]
  },
  {
   "cell_type": "code",
   "execution_count": 44,
   "id": "43befddc",
   "metadata": {},
   "outputs": [],
   "source": [
    "c=np.load('two_array.npz')"
   ]
  },
  {
   "cell_type": "code",
   "execution_count": 47,
   "id": "c36b8959",
   "metadata": {},
   "outputs": [
    {
     "data": {
      "text/plain": [
       "array([ 0,  1,  2,  3,  4,  5,  6,  7,  8,  9, 10, 11, 12, 13, 14, 15, 16,\n",
       "       17, 18, 19])"
      ]
     },
     "execution_count": 47,
     "metadata": {},
     "output_type": "execute_result"
    }
   ],
   "source": [
    "c['a']"
   ]
  },
  {
   "cell_type": "code",
   "execution_count": 48,
   "id": "0b97fbb6",
   "metadata": {},
   "outputs": [
    {
     "data": {
      "text/plain": [
       "array([0, 1, 2, 3, 4, 5])"
      ]
     },
     "execution_count": 48,
     "metadata": {},
     "output_type": "execute_result"
    }
   ],
   "source": [
    "c['b']"
   ]
  }
 ],
 "metadata": {
  "kernelspec": {
   "display_name": "Python 3",
   "language": "python",
   "name": "python3"
  },
  "language_info": {
   "codemirror_mode": {
    "name": "ipython",
    "version": 3
   },
   "file_extension": ".py",
   "mimetype": "text/x-python",
   "name": "python",
   "nbconvert_exporter": "python",
   "pygments_lexer": "ipython3",
   "version": "3.8.8"
  }
 },
 "nbformat": 4,
 "nbformat_minor": 5
}
