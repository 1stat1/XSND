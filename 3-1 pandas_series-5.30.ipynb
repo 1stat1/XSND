{
 "cells": [
  {
   "cell_type": "code",
   "execution_count": 1,
   "id": "63ea6005",
   "metadata": {},
   "outputs": [],
   "source": [
    "import numpy as np\n",
    "import pandas as pd "
   ]
  },
  {
   "cell_type": "markdown",
   "id": "d414d42b",
   "metadata": {},
   "source": [
    " 通过python的list创建pandas_series"
   ]
  },
  {
   "cell_type": "code",
   "execution_count": 2,
   "id": "c4457b3a",
   "metadata": {},
   "outputs": [],
   "source": [
    "s1= pd.Series([1,2,3,4])     #此处S大写"
   ]
  },
  {
   "cell_type": "code",
   "execution_count": 3,
   "id": "df0922e6",
   "metadata": {},
   "outputs": [
    {
     "data": {
      "text/plain": [
       "0    1\n",
       "1    2\n",
       "2    3\n",
       "3    4\n",
       "dtype: int64"
      ]
     },
     "execution_count": 3,
     "metadata": {},
     "output_type": "execute_result"
    }
   ],
   "source": [
    "s1"
   ]
  },
  {
   "cell_type": "code",
   "execution_count": 4,
   "id": "ddbd1c83",
   "metadata": {},
   "outputs": [
    {
     "data": {
      "text/plain": [
       "array([1, 2, 3, 4], dtype=int64)"
      ]
     },
     "execution_count": 4,
     "metadata": {},
     "output_type": "execute_result"
    }
   ],
   "source": [
    "s1.values"
   ]
  },
  {
   "cell_type": "code",
   "execution_count": 5,
   "id": "c2c0e734",
   "metadata": {},
   "outputs": [
    {
     "data": {
      "text/plain": [
       "RangeIndex(start=0, stop=4, step=1)"
      ]
     },
     "execution_count": 5,
     "metadata": {},
     "output_type": "execute_result"
    }
   ],
   "source": [
    "s1.index"
   ]
  },
  {
   "cell_type": "markdown",
   "id": "2018dfae",
   "metadata": {},
   "source": [
    "通过np.array创建"
   ]
  },
  {
   "cell_type": "code",
   "execution_count": 6,
   "id": "be3119e4",
   "metadata": {},
   "outputs": [],
   "source": [
    "s2=pd.Series(np.arange(6))"
   ]
  },
  {
   "cell_type": "code",
   "execution_count": 7,
   "id": "b70c4592",
   "metadata": {},
   "outputs": [
    {
     "data": {
      "text/plain": [
       "0    0\n",
       "1    1\n",
       "2    2\n",
       "3    3\n",
       "4    4\n",
       "5    5\n",
       "dtype: int32"
      ]
     },
     "execution_count": 7,
     "metadata": {},
     "output_type": "execute_result"
    }
   ],
   "source": [
    "s2"
   ]
  },
  {
   "cell_type": "markdown",
   "id": "a2ca6d67",
   "metadata": {},
   "source": [
    "通过python字典创建"
   ]
  },
  {
   "cell_type": "code",
   "execution_count": 8,
   "id": "49d945fb",
   "metadata": {},
   "outputs": [],
   "source": [
    "s3=pd.Series({'1':1,'2':2,'3':3})"
   ]
  },
  {
   "cell_type": "code",
   "execution_count": 9,
   "id": "6848ac04",
   "metadata": {},
   "outputs": [
    {
     "data": {
      "text/plain": [
       "1    1\n",
       "2    2\n",
       "3    3\n",
       "dtype: int64"
      ]
     },
     "execution_count": 9,
     "metadata": {},
     "output_type": "execute_result"
    }
   ],
   "source": [
    "s3"
   ]
  },
  {
   "cell_type": "code",
   "execution_count": 10,
   "id": "bb4e5527",
   "metadata": {},
   "outputs": [
    {
     "data": {
      "text/plain": [
       "array([1, 2, 3], dtype=int64)"
      ]
     },
     "execution_count": 10,
     "metadata": {},
     "output_type": "execute_result"
    }
   ],
   "source": [
    "s3.values"
   ]
  },
  {
   "cell_type": "code",
   "execution_count": 11,
   "id": "6a113970",
   "metadata": {},
   "outputs": [
    {
     "data": {
      "text/plain": [
       "Index(['1', '2', '3'], dtype='object')"
      ]
     },
     "execution_count": 11,
     "metadata": {},
     "output_type": "execute_result"
    }
   ],
   "source": [
    "s3.index"
   ]
  },
  {
   "cell_type": "code",
   "execution_count": 12,
   "id": "37f6890e",
   "metadata": {},
   "outputs": [],
   "source": [
    "s4=pd.Series([3,6,9,2,5,8],index=['S','T','A','T','Y','T'])    #再用S4举例说明"
   ]
  },
  {
   "cell_type": "code",
   "execution_count": 13,
   "id": "4151dea6",
   "metadata": {},
   "outputs": [
    {
     "data": {
      "text/plain": [
       "S    3\n",
       "T    6\n",
       "A    9\n",
       "T    2\n",
       "Y    5\n",
       "T    8\n",
       "dtype: int64"
      ]
     },
     "execution_count": 13,
     "metadata": {},
     "output_type": "execute_result"
    }
   ],
   "source": [
    "s4"
   ]
  },
  {
   "cell_type": "code",
   "execution_count": 14,
   "id": "fc8f6224",
   "metadata": {},
   "outputs": [
    {
     "data": {
      "text/plain": [
       "array([3, 6, 9, 2, 5, 8], dtype=int64)"
      ]
     },
     "execution_count": 14,
     "metadata": {},
     "output_type": "execute_result"
    }
   ],
   "source": [
    "s4.values"
   ]
  },
  {
   "cell_type": "code",
   "execution_count": 15,
   "id": "51fecb1e",
   "metadata": {},
   "outputs": [
    {
     "data": {
      "text/plain": [
       "Index(['S', 'T', 'A', 'T', 'Y', 'T'], dtype='object')"
      ]
     },
     "execution_count": 15,
     "metadata": {},
     "output_type": "execute_result"
    }
   ],
   "source": [
    "s4.index"
   ]
  },
  {
   "cell_type": "markdown",
   "id": "c0ed18c7",
   "metadata": {},
   "source": [
    "#对series进行操作"
   ]
  },
  {
   "cell_type": "code",
   "execution_count": 16,
   "id": "03a0db3e",
   "metadata": {},
   "outputs": [
    {
     "data": {
      "text/plain": [
       "T    6\n",
       "T    2\n",
       "T    8\n",
       "dtype: int64"
      ]
     },
     "execution_count": 16,
     "metadata": {},
     "output_type": "execute_result"
    }
   ],
   "source": [
    "s4['T']"
   ]
  },
  {
   "cell_type": "code",
   "execution_count": 17,
   "id": "475b21ef",
   "metadata": {},
   "outputs": [
    {
     "data": {
      "text/plain": [
       "S    3\n",
       "T    2\n",
       "Y    5\n",
       "dtype: int64"
      ]
     },
     "execution_count": 17,
     "metadata": {},
     "output_type": "execute_result"
    }
   ],
   "source": [
    "s4[s4<6]"
   ]
  },
  {
   "cell_type": "markdown",
   "id": "e4ed1bed",
   "metadata": {},
   "source": [
    "series转换成python字典"
   ]
  },
  {
   "cell_type": "code",
   "execution_count": 18,
   "id": "45bd6433",
   "metadata": {},
   "outputs": [],
   "source": [
    "s4=pd.Series([3,6,9,2,5,8],index=['1','2','3','4','5','6'])"
   ]
  },
  {
   "cell_type": "code",
   "execution_count": 19,
   "id": "86093cc5",
   "metadata": {},
   "outputs": [
    {
     "data": {
      "text/plain": [
       "1    3\n",
       "2    6\n",
       "3    9\n",
       "4    2\n",
       "5    5\n",
       "6    8\n",
       "dtype: int64"
      ]
     },
     "execution_count": 19,
     "metadata": {},
     "output_type": "execute_result"
    }
   ],
   "source": [
    "s4"
   ]
  },
  {
   "cell_type": "code",
   "execution_count": 20,
   "id": "612eaf61",
   "metadata": {},
   "outputs": [
    {
     "data": {
      "text/plain": [
       "{'1': 3, '2': 6, '3': 9, '4': 2, '5': 5, '6': 8}"
      ]
     },
     "execution_count": 20,
     "metadata": {},
     "output_type": "execute_result"
    }
   ],
   "source": [
    "s4.to_dict()"
   ]
  },
  {
   "cell_type": "code",
   "execution_count": 21,
   "id": "c082ad4a",
   "metadata": {},
   "outputs": [
    {
     "data": {
      "text/plain": [
       "1    3\n",
       "2    6\n",
       "3    9\n",
       "4    2\n",
       "5    5\n",
       "6    8\n",
       "dtype: int64"
      ]
     },
     "execution_count": 21,
     "metadata": {},
     "output_type": "execute_result"
    }
   ],
   "source": [
    "s4"
   ]
  },
  {
   "cell_type": "code",
   "execution_count": 22,
   "id": "9d1ab9a5",
   "metadata": {},
   "outputs": [],
   "source": [
    "s5=pd.Series(s4.to_dict())"
   ]
  },
  {
   "cell_type": "code",
   "execution_count": 23,
   "id": "15faf975",
   "metadata": {},
   "outputs": [
    {
     "data": {
      "text/plain": [
       "1    3\n",
       "2    6\n",
       "3    9\n",
       "4    2\n",
       "5    5\n",
       "6    8\n",
       "dtype: int64"
      ]
     },
     "execution_count": 23,
     "metadata": {},
     "output_type": "execute_result"
    }
   ],
   "source": [
    "s5"
   ]
  },
  {
   "cell_type": "code",
   "execution_count": 24,
   "id": "c6ca53fd",
   "metadata": {},
   "outputs": [
    {
     "data": {
      "text/plain": [
       "array([3, 6, 9, 2, 5, 8], dtype=int64)"
      ]
     },
     "execution_count": 24,
     "metadata": {},
     "output_type": "execute_result"
    }
   ],
   "source": [
    "s5.values"
   ]
  },
  {
   "cell_type": "code",
   "execution_count": 25,
   "id": "a0e0904f",
   "metadata": {},
   "outputs": [
    {
     "data": {
      "text/plain": [
       "Index(['1', '2', '3', '4', '5', '6'], dtype='object')"
      ]
     },
     "execution_count": 25,
     "metadata": {},
     "output_type": "execute_result"
    }
   ],
   "source": [
    "s5.index"
   ]
  },
  {
   "cell_type": "markdown",
   "id": "677b4705",
   "metadata": {},
   "source": [
    "改变index"
   ]
  },
  {
   "cell_type": "code",
   "execution_count": 26,
   "id": "a3043adf",
   "metadata": {},
   "outputs": [
    {
     "data": {
      "text/plain": [
       "(6,)"
      ]
     },
     "execution_count": 26,
     "metadata": {},
     "output_type": "execute_result"
    }
   ],
   "source": [
    "s5.shape"
   ]
  },
  {
   "cell_type": "code",
   "execution_count": 27,
   "id": "075a1115",
   "metadata": {},
   "outputs": [
    {
     "data": {
      "text/plain": [
       "1    3\n",
       "2    6\n",
       "3    9\n",
       "4    2\n",
       "5    5\n",
       "6    8\n",
       "dtype: int64"
      ]
     },
     "execution_count": 27,
     "metadata": {},
     "output_type": "execute_result"
    }
   ],
   "source": [
    "s5 "
   ]
  },
  {
   "cell_type": "code",
   "execution_count": 32,
   "id": "5f7e9cd5",
   "metadata": {},
   "outputs": [
    {
     "data": {
      "text/plain": [
       "pandas.core.series.Series"
      ]
     },
     "execution_count": 32,
     "metadata": {},
     "output_type": "execute_result"
    }
   ],
   "source": [
    "type(s5)"
   ]
  },
  {
   "cell_type": "code",
   "execution_count": 28,
   "id": "a355115d",
   "metadata": {},
   "outputs": [],
   "source": [
    "index_1=['a','b','c','d','e','f']"
   ]
  },
  {
   "cell_type": "code",
   "execution_count": 42,
   "id": "3233264c",
   "metadata": {},
   "outputs": [],
   "source": [
    "s6=pd.Series(s5.values,index=index_1)"
   ]
  },
  {
   "cell_type": "code",
   "execution_count": 43,
   "id": "bdfea64b",
   "metadata": {},
   "outputs": [
    {
     "data": {
      "text/plain": [
       "a    3\n",
       "b    6\n",
       "c    9\n",
       "d    2\n",
       "e    5\n",
       "f    8\n",
       "dtype: int64"
      ]
     },
     "execution_count": 43,
     "metadata": {},
     "output_type": "execute_result"
    }
   ],
   "source": [
    "s6"
   ]
  },
  {
   "cell_type": "code",
   "execution_count": null,
   "id": "1c20c9fc",
   "metadata": {},
   "outputs": [],
   "source": []
  }
 ],
 "metadata": {
  "kernelspec": {
   "display_name": "Python 3",
   "language": "python",
   "name": "python3"
  },
  "language_info": {
   "codemirror_mode": {
    "name": "ipython",
    "version": 3
   },
   "file_extension": ".py",
   "mimetype": "text/x-python",
   "name": "python",
   "nbconvert_exporter": "python",
   "pygments_lexer": "ipython3",
   "version": "3.8.8"
  }
 },
 "nbformat": 4,
 "nbformat_minor": 5
}
