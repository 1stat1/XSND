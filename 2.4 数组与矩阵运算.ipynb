{
 "cells": [
  {
   "cell_type": "markdown",
   "id": "ca2af890",
   "metadata": {},
   "source": [
    "快速创建数组"
   ]
  },
  {
   "cell_type": "code",
   "execution_count": 2,
   "id": "27dcda47",
   "metadata": {},
   "outputs": [],
   "source": [
    "import numpy as np"
   ]
  },
  {
   "cell_type": "code",
   "execution_count": 3,
   "id": "90434008",
   "metadata": {},
   "outputs": [
    {
     "data": {
      "text/plain": [
       "array([ 0.42213782, -0.47666836,  0.60125906, -0.45412032, -1.35308299,\n",
       "        1.68014489,  0.54968618,  0.43634018])"
      ]
     },
     "execution_count": 3,
     "metadata": {},
     "output_type": "execute_result"
    }
   ],
   "source": [
    "np.random.randn(8)"
   ]
  },
  {
   "cell_type": "code",
   "execution_count": 8,
   "id": "c11c2321",
   "metadata": {},
   "outputs": [
    {
     "data": {
      "text/plain": [
       "array([[22, 59, 18],\n",
       "       [38, 55, 45],\n",
       "       [35, 67, 63]])"
      ]
     },
     "execution_count": 8,
     "metadata": {},
     "output_type": "execute_result"
    }
   ],
   "source": [
    "np.random.randint(100,size=(3,3))"
   ]
  },
  {
   "cell_type": "code",
   "execution_count": 10,
   "id": "e53a75e9",
   "metadata": {},
   "outputs": [
    {
     "data": {
      "text/plain": [
       "array([[1, 5, 4],\n",
       "       [2, 7, 5]])"
      ]
     },
     "execution_count": 10,
     "metadata": {},
     "output_type": "execute_result"
    }
   ],
   "source": [
    "np.random.randint(10,size=6).reshape(2,3)"
   ]
  },
  {
   "cell_type": "markdown",
   "id": "4dbfa4ce",
   "metadata": {},
   "source": [
    "数组运算"
   ]
  },
  {
   "cell_type": "code",
   "execution_count": 11,
   "id": "fefbb6c2",
   "metadata": {},
   "outputs": [],
   "source": [
    "a=np.random.randint(10,size=6).reshape(2,3)"
   ]
  },
  {
   "cell_type": "code",
   "execution_count": 12,
   "id": "6435fe8b",
   "metadata": {},
   "outputs": [],
   "source": [
    "b=np.random.randint(10,size=6).reshape(2,3)"
   ]
  },
  {
   "cell_type": "code",
   "execution_count": 20,
   "id": "c2adb064",
   "metadata": {},
   "outputs": [
    {
     "data": {
      "text/plain": [
       "array([[5, 2, 8],\n",
       "       [2, 3, 7]])"
      ]
     },
     "execution_count": 20,
     "metadata": {},
     "output_type": "execute_result"
    }
   ],
   "source": [
    "a"
   ]
  },
  {
   "cell_type": "code",
   "execution_count": 19,
   "id": "316fcaf0",
   "metadata": {},
   "outputs": [
    {
     "data": {
      "text/plain": [
       "array([[2, 3, 9],\n",
       "       [3, 9, 8]])"
      ]
     },
     "execution_count": 19,
     "metadata": {},
     "output_type": "execute_result"
    }
   ],
   "source": [
    "b"
   ]
  },
  {
   "cell_type": "code",
   "execution_count": 17,
   "id": "1c7f01c3",
   "metadata": {},
   "outputs": [
    {
     "data": {
      "text/plain": [
       "array([[ 7,  5, 17],\n",
       "       [ 5, 12, 15]])"
      ]
     },
     "execution_count": 17,
     "metadata": {},
     "output_type": "execute_result"
    }
   ],
   "source": [
    "a+b"
   ]
  },
  {
   "cell_type": "code",
   "execution_count": 21,
   "id": "2e9f575e",
   "metadata": {},
   "outputs": [
    {
     "data": {
      "text/plain": [
       "array([[ 3, -1, -1],\n",
       "       [-1, -6, -1]])"
      ]
     },
     "execution_count": 21,
     "metadata": {},
     "output_type": "execute_result"
    }
   ],
   "source": [
    "a-b"
   ]
  },
  {
   "cell_type": "code",
   "execution_count": 22,
   "id": "e7854844",
   "metadata": {},
   "outputs": [
    {
     "data": {
      "text/plain": [
       "array([[10,  6, 72],\n",
       "       [ 6, 27, 56]])"
      ]
     },
     "execution_count": 22,
     "metadata": {},
     "output_type": "execute_result"
    }
   ],
   "source": [
    "a*b"
   ]
  },
  {
   "cell_type": "code",
   "execution_count": 23,
   "id": "3ecb0abd",
   "metadata": {},
   "outputs": [
    {
     "data": {
      "text/plain": [
       "array([[2.5       , 0.66666667, 0.88888889],\n",
       "       [0.66666667, 0.33333333, 0.875     ]])"
      ]
     },
     "execution_count": 23,
     "metadata": {},
     "output_type": "execute_result"
    }
   ],
   "source": [
    "a/b"
   ]
  },
  {
   "cell_type": "markdown",
   "id": "a359ba40",
   "metadata": {},
   "source": [
    "创建矩阵"
   ]
  },
  {
   "cell_type": "code",
   "execution_count": 24,
   "id": "a4128763",
   "metadata": {},
   "outputs": [
    {
     "data": {
      "text/plain": [
       "matrix([[1, 2, 3],\n",
       "        [7, 8, 9]])"
      ]
     },
     "execution_count": 24,
     "metadata": {},
     "output_type": "execute_result"
    }
   ],
   "source": [
    "np.mat([[1,2,3],[7,8,9]])"
   ]
  },
  {
   "cell_type": "code",
   "execution_count": 25,
   "id": "0b46c6d9",
   "metadata": {},
   "outputs": [
    {
     "data": {
      "text/plain": [
       "matrix([[5, 2, 8],\n",
       "        [2, 3, 7]])"
      ]
     },
     "execution_count": 25,
     "metadata": {},
     "output_type": "execute_result"
    }
   ],
   "source": [
    "np.mat(a)"
   ]
  },
  {
   "cell_type": "markdown",
   "id": "56473c19",
   "metadata": {},
   "source": [
    "矩阵的运算"
   ]
  },
  {
   "cell_type": "code",
   "execution_count": 26,
   "id": "4a04ed19",
   "metadata": {},
   "outputs": [],
   "source": [
    "A=np.mat(a)"
   ]
  },
  {
   "cell_type": "code",
   "execution_count": 27,
   "id": "6af232d2",
   "metadata": {},
   "outputs": [],
   "source": [
    "B=np.mat(b)"
   ]
  },
  {
   "cell_type": "code",
   "execution_count": 28,
   "id": "462b9562",
   "metadata": {},
   "outputs": [
    {
     "data": {
      "text/plain": [
       "matrix([[5, 2, 8],\n",
       "        [2, 3, 7]])"
      ]
     },
     "execution_count": 28,
     "metadata": {},
     "output_type": "execute_result"
    }
   ],
   "source": [
    "A"
   ]
  },
  {
   "cell_type": "code",
   "execution_count": 29,
   "id": "cabb089d",
   "metadata": {},
   "outputs": [
    {
     "data": {
      "text/plain": [
       "matrix([[2, 3, 9],\n",
       "        [3, 9, 8]])"
      ]
     },
     "execution_count": 29,
     "metadata": {},
     "output_type": "execute_result"
    }
   ],
   "source": [
    "B"
   ]
  },
  {
   "cell_type": "code",
   "execution_count": 30,
   "id": "28dfa4e2",
   "metadata": {},
   "outputs": [
    {
     "data": {
      "text/plain": [
       "matrix([[ 7,  5, 17],\n",
       "        [ 5, 12, 15]])"
      ]
     },
     "execution_count": 30,
     "metadata": {},
     "output_type": "execute_result"
    }
   ],
   "source": [
    "A+B"
   ]
  },
  {
   "cell_type": "code",
   "execution_count": 31,
   "id": "f4bd4933",
   "metadata": {},
   "outputs": [
    {
     "data": {
      "text/plain": [
       "matrix([[ 3, -1, -1],\n",
       "        [-1, -6, -1]])"
      ]
     },
     "execution_count": 31,
     "metadata": {},
     "output_type": "execute_result"
    }
   ],
   "source": [
    "A-B"
   ]
  },
  {
   "cell_type": "code",
   "execution_count": 33,
   "id": "74b9ca8b",
   "metadata": {},
   "outputs": [],
   "source": [
    "a=np.mat(np.random.randint(10,size=6).reshape(2,3))\n",
    "b=np.mat(np.random.randint(10,size=6).reshape(3,2))"
   ]
  },
  {
   "cell_type": "code",
   "execution_count": 34,
   "id": "9e45b2c6",
   "metadata": {},
   "outputs": [
    {
     "data": {
      "text/plain": [
       "matrix([[6, 5, 0],\n",
       "        [0, 6, 2]])"
      ]
     },
     "execution_count": 34,
     "metadata": {},
     "output_type": "execute_result"
    }
   ],
   "source": [
    "a"
   ]
  },
  {
   "cell_type": "code",
   "execution_count": 35,
   "id": "af064c08",
   "metadata": {},
   "outputs": [
    {
     "data": {
      "text/plain": [
       "matrix([[6, 9],\n",
       "        [6, 9],\n",
       "        [3, 7]])"
      ]
     },
     "execution_count": 35,
     "metadata": {},
     "output_type": "execute_result"
    }
   ],
   "source": [
    "b"
   ]
  },
  {
   "cell_type": "markdown",
   "id": "87f1f364",
   "metadata": {},
   "source": [
    "#矩阵相乘必须是双方行列数互换后对应，如a是2*3，b就要3*2"
   ]
  },
  {
   "cell_type": "code",
   "execution_count": 36,
   "id": "75b4349e",
   "metadata": {},
   "outputs": [
    {
     "data": {
      "text/plain": [
       "matrix([[66, 99],\n",
       "        [42, 68]])"
      ]
     },
     "execution_count": 36,
     "metadata": {},
     "output_type": "execute_result"
    }
   ],
   "source": [
    "a*b"
   ]
  },
  {
   "cell_type": "markdown",
   "id": "21bdea8a",
   "metadata": {},
   "source": [
    "array常用函数"
   ]
  },
  {
   "cell_type": "code",
   "execution_count": 37,
   "id": "bb522192",
   "metadata": {},
   "outputs": [],
   "source": [
    "c=np.random.randint(10,size=42).reshape(7,6)"
   ]
  },
  {
   "cell_type": "code",
   "execution_count": 38,
   "id": "73cd93ee",
   "metadata": {},
   "outputs": [
    {
     "data": {
      "text/plain": [
       "array([0, 1, 2, 3, 4, 5, 6, 7, 8, 9])"
      ]
     },
     "execution_count": 38,
     "metadata": {},
     "output_type": "execute_result"
    }
   ],
   "source": [
    "np.unique(c)"
   ]
  },
  {
   "cell_type": "code",
   "execution_count": 39,
   "id": "1384ee5e",
   "metadata": {},
   "outputs": [
    {
     "data": {
      "text/plain": [
       "array([[4, 1, 8, 8, 3, 6],\n",
       "       [3, 0, 0, 7, 8, 2],\n",
       "       [1, 8, 0, 7, 7, 3],\n",
       "       [3, 8, 5, 9, 7, 1],\n",
       "       [4, 6, 2, 2, 7, 2],\n",
       "       [0, 7, 8, 6, 6, 6],\n",
       "       [4, 5, 7, 0, 3, 8]])"
      ]
     },
     "execution_count": 39,
     "metadata": {},
     "output_type": "execute_result"
    }
   ],
   "source": [
    "c"
   ]
  },
  {
   "cell_type": "markdown",
   "id": "81b3a079",
   "metadata": {},
   "source": [
    "列求和"
   ]
  },
  {
   "cell_type": "code",
   "execution_count": 41,
   "id": "893d72d3",
   "metadata": {},
   "outputs": [
    {
     "data": {
      "text/plain": [
       "array([19, 35, 30, 39, 41, 28])"
      ]
     },
     "execution_count": 41,
     "metadata": {},
     "output_type": "execute_result"
    }
   ],
   "source": [
    "sum(c)"
   ]
  },
  {
   "cell_type": "markdown",
   "id": "99a6c1ef",
   "metadata": {},
   "source": [
    "第二行求和"
   ]
  },
  {
   "cell_type": "code",
   "execution_count": 44,
   "id": "483ce143",
   "metadata": {},
   "outputs": [
    {
     "data": {
      "text/plain": [
       "20"
      ]
     },
     "execution_count": 44,
     "metadata": {},
     "output_type": "execute_result"
    }
   ],
   "source": [
    "sum(c[1])"
   ]
  },
  {
   "cell_type": "markdown",
   "id": "e03d2b4e",
   "metadata": {},
   "source": [
    "第二列求和"
   ]
  },
  {
   "cell_type": "code",
   "execution_count": 55,
   "id": "e4c2a3c2",
   "metadata": {},
   "outputs": [
    {
     "data": {
      "text/plain": [
       "35"
      ]
     },
     "execution_count": 55,
     "metadata": {},
     "output_type": "execute_result"
    }
   ],
   "source": [
    "sum(c[:,1])"
   ]
  },
  {
   "cell_type": "markdown",
   "id": "b5baf7f4",
   "metadata": {},
   "source": [
    "求最大/小值"
   ]
  },
  {
   "cell_type": "code",
   "execution_count": 56,
   "id": "b857193d",
   "metadata": {},
   "outputs": [
    {
     "data": {
      "text/plain": [
       "9"
      ]
     },
     "execution_count": 56,
     "metadata": {},
     "output_type": "execute_result"
    }
   ],
   "source": [
    "c.max()"
   ]
  },
  {
   "cell_type": "code",
   "execution_count": 57,
   "id": "5f7497c4",
   "metadata": {},
   "outputs": [
    {
     "data": {
      "text/plain": [
       "0"
      ]
     },
     "execution_count": 57,
     "metadata": {},
     "output_type": "execute_result"
    }
   ],
   "source": [
    "c.min()"
   ]
  },
  {
   "cell_type": "code",
   "execution_count": 61,
   "id": "90d0105f",
   "metadata": {},
   "outputs": [
    {
     "data": {
      "text/plain": [
       "9"
      ]
     },
     "execution_count": 61,
     "metadata": {},
     "output_type": "execute_result"
    }
   ],
   "source": [
    "max(c[3])     #第四行最大值"
   ]
  },
  {
   "cell_type": "code",
   "execution_count": 67,
   "id": "181079b7",
   "metadata": {},
   "outputs": [
    {
     "data": {
      "text/plain": [
       "9"
      ]
     },
     "execution_count": 67,
     "metadata": {},
     "output_type": "execute_result"
    }
   ],
   "source": [
    "max(c[:,3])   #第4列最大值"
   ]
  }
 ],
 "metadata": {
  "kernelspec": {
   "display_name": "Python 3",
   "language": "python",
   "name": "python3"
  },
  "language_info": {
   "codemirror_mode": {
    "name": "ipython",
    "version": 3
   },
   "file_extension": ".py",
   "mimetype": "text/x-python",
   "name": "python",
   "nbconvert_exporter": "python",
   "pygments_lexer": "ipython3",
   "version": "3.8.8"
  }
 },
 "nbformat": 4,
 "nbformat_minor": 5
}
